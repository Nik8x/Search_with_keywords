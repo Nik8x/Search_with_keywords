{
 "cells": [
  {
   "cell_type": "code",
   "execution_count": 1,
   "metadata": {},
   "outputs": [],
   "source": [
    "import pandas as pd\n",
    "import numpy as np\n",
    "from sklearn.datasets import load_iris\n",
    "import matplotlib.pyplot as plt\n",
    "import seaborn as sns\n",
    "\n",
    "from google import google\n",
    "\n",
    "from urllib.request import urlopen\n",
    "from bs4 import BeautifulSoup as bs\n",
    "\n",
    "from newspaper import Article\n",
    "\n",
    "import re\n",
    "\n",
    "import warnings\n",
    "warnings.filterwarnings('ignore')"
   ]
  },
  {
   "cell_type": "code",
   "execution_count": 107,
   "metadata": {},
   "outputs": [],
   "source": [
    "def aml_func():\n",
    "    \n",
    "    num_page = 2\n",
    "    \n",
    "    x = input('type the person you want to look into: ')\n",
    "    y = input('type all the keywords seperated by | you want to search for this person: ')\n",
    "    \n",
    "#     listofbw = ['fraud','fraudulence', 'cheating', 'swindling', 'embezzlement', 'deceit', 'deception', \n",
    "#              'double-dealing', 'chicanery','evasion', 'illegal', 'offshore', 'money laundering', \n",
    "#              'unlawful', 'illicit', 'illegitimate', 'criminal', 'felonious', 'guilty']\n",
    "\n",
    "    listofbw = y.split('|')\n",
    "    \n",
    "    # our search query\n",
    "#     search_results = google.search(\"\"\"(fraud | fraudulence | cheating | swindling | embezzlement| deceit| deception| double-dealing| chicanery|evasion| illegal | offshore| money laundering| unlawful| illicit| illegitimate | criminal| felonious | guilty) (Paul Manafort)\"\"\", num_page)\n",
    "    \n",
    "    search_results = google.search('\"\"\"(' + y + ') (' + x + ')\"\"\"', num_page)\n",
    "    \n",
    "    try:\n",
    "        link = []\n",
    "        description = []\n",
    "        summary_1 = []\n",
    "        keywords = []\n",
    "        for x in search_results:\n",
    "#             link.append(x.link)\n",
    "#             description.append(x.description)\n",
    "\n",
    "            article = Article(x.link)\n",
    "            article.download()\n",
    "            article.parse()\n",
    "            article.nlp()\n",
    "            \n",
    "            description.append(article.title)\n",
    "            link.append(article.url)\n",
    "            keywords.append(\", \".join(article.keywords)) # the keywords which are mentioned\n",
    "            summary_1.append(article.summary)\n",
    "        \n",
    "    except:\n",
    "        pass\n",
    "        \n",
    "    aml = pd.DataFrame()\n",
    "    aml['Description'] = description\n",
    "    aml['Website'] = link\n",
    "    aml['Keywords'] = keywords\n",
    "    aml['Summary'] = summary_1\n",
    "    \n",
    "    aml_func.aml = aml\n",
    "    return aml"
   ]
  },
  {
   "cell_type": "code",
   "execution_count": 109,
   "metadata": {
    "scrolled": true
   },
   "outputs": [
    {
     "name": "stdout",
     "output_type": "stream",
     "text": [
      "type the person you want to look into: war\n",
      "type all the keywords seperated by | you want to search for this person: elon musk|jeff bezos\n"
     ]
    },
    {
     "data": {
      "text/html": [
       "<div>\n",
       "<style scoped>\n",
       "    .dataframe tbody tr th:only-of-type {\n",
       "        vertical-align: middle;\n",
       "    }\n",
       "\n",
       "    .dataframe tbody tr th {\n",
       "        vertical-align: top;\n",
       "    }\n",
       "\n",
       "    .dataframe thead th {\n",
       "        text-align: right;\n",
       "    }\n",
       "</style>\n",
       "<table border=\"1\" class=\"dataframe\">\n",
       "  <thead>\n",
       "    <tr style=\"text-align: right;\">\n",
       "      <th></th>\n",
       "      <th>Description</th>\n",
       "      <th>Website</th>\n",
       "      <th>Keywords</th>\n",
       "      <th>Summary</th>\n",
       "    </tr>\n",
       "  </thead>\n",
       "  <tbody>\n",
       "    <tr>\n",
       "      <th>0</th>\n",
       "      <td>Musk vs Bezos: how the battle of the rocket me...</td>\n",
       "      <td>https://www.techradar.com/news/musk-vs-bezos-h...</td>\n",
       "      <td>shape, future, moon, blue, space, men, battle,...</td>\n",
       "      <td>Musk vs Bezos: the moon and MarsMusk is obsess...</td>\n",
       "    </tr>\n",
       "    <tr>\n",
       "      <th>1</th>\n",
       "      <td>Musk vs. Bezos: The Battle of the Space Billio...</td>\n",
       "      <td>https://spectrum.ieee.org/aerospace/space-flig...</td>\n",
       "      <td>heats, blue, space, battle, billionaires, vs, ...</td>\n",
       "      <td>Two companies, though, have grabbed the spotli...</td>\n",
       "    </tr>\n",
       "    <tr>\n",
       "      <th>2</th>\n",
       "      <td>Battle of the space billionaires put on hold A...</td>\n",
       "      <td>https://www.dailymail.co.uk/sciencetech/articl...</td>\n",
       "      <td>satellite, blue, space, battle, hold, billiona...</td>\n",
       "      <td>However, both Elon Musk's SpaceX and Blue Orig...</td>\n",
       "    </tr>\n",
       "    <tr>\n",
       "      <th>3</th>\n",
       "      <td>Jeff Bezos and Elon Musk want to colonize spac...</td>\n",
       "      <td>https://www.vox.com/future-perfect/2018/10/22/...</td>\n",
       "      <td>save, nuclear, space, humanity, mars, bezos, c...</td>\n",
       "      <td>A healthy, independent Mars colony that didn’t...</td>\n",
       "    </tr>\n",
       "    <tr>\n",
       "      <th>4</th>\n",
       "      <td>All aboard: Jeff Bezos ahead of Elon Musk and ...</td>\n",
       "      <td>https://www.thetimes.co.uk/article/all-aboard-...</td>\n",
       "      <td>watch, space, subscriber, flights, branson, pa...</td>\n",
       "      <td>We are sorry, you need to be a subscriber to w...</td>\n",
       "    </tr>\n",
       "    <tr>\n",
       "      <th>5</th>\n",
       "      <td>Neil deGrasse Tyson: Elon Musk is the most imp...</td>\n",
       "      <td>https://www.cnbc.com/2018/11/19/neil-degrasse-...</td>\n",
       "      <td>tech, tesla, important, space, person, tyson, ...</td>\n",
       "      <td>But, if you ask renowned astrophysicist Neil d...</td>\n",
       "    </tr>\n",
       "    <tr>\n",
       "      <th>6</th>\n",
       "      <td>Jeff Bezos tweets about SpaceX rocket launch, ...</td>\n",
       "      <td>https://www.cnbc.com/2018/02/06/jeff-bezos-twe...</td>\n",
       "      <td>kiss, tweets, powerful, space, emoji, bezos, r...</td>\n",
       "      <td>Elon Musk has a really big Tuesday ahead of hi...</td>\n",
       "    </tr>\n",
       "    <tr>\n",
       "      <th>7</th>\n",
       "      <td>Jeff Bezos and Elon Musk Are Ramping Up Their ...</td>\n",
       "      <td>https://www.vanityfair.com/news/2018/03/jeff-b...</td>\n",
       "      <td>moon, space, land, mars, ramping, private, rac...</td>\n",
       "      <td>Silicon Valley billionaire Elon Musk’s palpabl...</td>\n",
       "    </tr>\n",
       "    <tr>\n",
       "      <th>8</th>\n",
       "      <td>Elon Musk, Jeff Bezos and the new race for space</td>\n",
       "      <td>https://pitchbook.com/news/articles/musk-bezos...</td>\n",
       "      <td>moon, space, putting, race, bezos, billion, la...</td>\n",
       "      <td>The Space Shuttle program cost about $450 mill...</td>\n",
       "    </tr>\n",
       "    <tr>\n",
       "      <th>9</th>\n",
       "      <td>The Space Barons: Elon Musk, Jeff Bezos, and t...</td>\n",
       "      <td>https://www.amazon.com/Space-Barons-Bezos-Colo...</td>\n",
       "      <td>books, space, book, building, mars, quest, bra...</td>\n",
       "      <td>Not long ago, I reviewed Elon Musk: Tesla, Spa...</td>\n",
       "    </tr>\n",
       "  </tbody>\n",
       "</table>\n",
       "</div>"
      ],
      "text/plain": [
       "                                         Description  \\\n",
       "0  Musk vs Bezos: how the battle of the rocket me...   \n",
       "1  Musk vs. Bezos: The Battle of the Space Billio...   \n",
       "2  Battle of the space billionaires put on hold A...   \n",
       "3  Jeff Bezos and Elon Musk want to colonize spac...   \n",
       "4  All aboard: Jeff Bezos ahead of Elon Musk and ...   \n",
       "5  Neil deGrasse Tyson: Elon Musk is the most imp...   \n",
       "6  Jeff Bezos tweets about SpaceX rocket launch, ...   \n",
       "7  Jeff Bezos and Elon Musk Are Ramping Up Their ...   \n",
       "8   Elon Musk, Jeff Bezos and the new race for space   \n",
       "9  The Space Barons: Elon Musk, Jeff Bezos, and t...   \n",
       "\n",
       "                                             Website  \\\n",
       "0  https://www.techradar.com/news/musk-vs-bezos-h...   \n",
       "1  https://spectrum.ieee.org/aerospace/space-flig...   \n",
       "2  https://www.dailymail.co.uk/sciencetech/articl...   \n",
       "3  https://www.vox.com/future-perfect/2018/10/22/...   \n",
       "4  https://www.thetimes.co.uk/article/all-aboard-...   \n",
       "5  https://www.cnbc.com/2018/11/19/neil-degrasse-...   \n",
       "6  https://www.cnbc.com/2018/02/06/jeff-bezos-twe...   \n",
       "7  https://www.vanityfair.com/news/2018/03/jeff-b...   \n",
       "8  https://pitchbook.com/news/articles/musk-bezos...   \n",
       "9  https://www.amazon.com/Space-Barons-Bezos-Colo...   \n",
       "\n",
       "                                            Keywords  \\\n",
       "0  shape, future, moon, blue, space, men, battle,...   \n",
       "1  heats, blue, space, battle, billionaires, vs, ...   \n",
       "2  satellite, blue, space, battle, hold, billiona...   \n",
       "3  save, nuclear, space, humanity, mars, bezos, c...   \n",
       "4  watch, space, subscriber, flights, branson, pa...   \n",
       "5  tech, tesla, important, space, person, tyson, ...   \n",
       "6  kiss, tweets, powerful, space, emoji, bezos, r...   \n",
       "7  moon, space, land, mars, ramping, private, rac...   \n",
       "8  moon, space, putting, race, bezos, billion, la...   \n",
       "9  books, space, book, building, mars, quest, bra...   \n",
       "\n",
       "                                             Summary  \n",
       "0  Musk vs Bezos: the moon and MarsMusk is obsess...  \n",
       "1  Two companies, though, have grabbed the spotli...  \n",
       "2  However, both Elon Musk's SpaceX and Blue Orig...  \n",
       "3  A healthy, independent Mars colony that didn’t...  \n",
       "4  We are sorry, you need to be a subscriber to w...  \n",
       "5  But, if you ask renowned astrophysicist Neil d...  \n",
       "6  Elon Musk has a really big Tuesday ahead of hi...  \n",
       "7  Silicon Valley billionaire Elon Musk’s palpabl...  \n",
       "8  The Space Shuttle program cost about $450 mill...  \n",
       "9  Not long ago, I reviewed Elon Musk: Tesla, Spa...  "
      ]
     },
     "execution_count": 109,
     "metadata": {},
     "output_type": "execute_result"
    }
   ],
   "source": [
    "aml_func()"
   ]
  },
  {
   "cell_type": "code",
   "execution_count": 111,
   "metadata": {
    "scrolled": true
   },
   "outputs": [
    {
     "data": {
      "text/plain": [
       "'Musk vs Bezos: how the battle of the rocket men could shape the future of our species'"
      ]
     },
     "execution_count": 111,
     "metadata": {},
     "output_type": "execute_result"
    }
   ],
   "source": [
    "aml_func.aml['Description'][0]"
   ]
  },
  {
   "cell_type": "code",
   "execution_count": 110,
   "metadata": {
    "scrolled": true
   },
   "outputs": [
    {
     "data": {
      "text/plain": [
       "\"Musk vs Bezos: the moon and MarsMusk is obsessed with Mars, Bezos with the moon.\\nSo when it comes to the moon, Musk and Bezos agree.\\nSpaceX vs Blue OriginThey might both be space companies, but comparing SpaceX and Blue Origin is not easy.\\nBlue Origin is secretive, announcing the results of its rocket tests after they're complete; there's no publicity beforehand.\\nMusk Vs Bezos: the rocketsThe media tends to hear the phrase 'reusable rocket' and think they're all the same.\""
      ]
     },
     "execution_count": 110,
     "metadata": {},
     "output_type": "execute_result"
    }
   ],
   "source": [
    "aml_func.aml['Summary'][0]"
   ]
  },
  {
   "cell_type": "code",
   "execution_count": 112,
   "metadata": {},
   "outputs": [
    {
     "data": {
      "text/plain": [
       "'shape, future, moon, blue, space, men, battle, vs, rocket, bezos, origin, companies, spacex, species, davenport, musk, earth'"
      ]
     },
     "execution_count": 112,
     "metadata": {},
     "output_type": "execute_result"
    }
   ],
   "source": [
    "aml_func.aml['Keywords'][0]"
   ]
  }
 ],
 "metadata": {
  "kernelspec": {
   "display_name": "Python 3",
   "language": "python",
   "name": "python3"
  },
  "language_info": {
   "codemirror_mode": {
    "name": "ipython",
    "version": 3
   },
   "file_extension": ".py",
   "mimetype": "text/x-python",
   "name": "python",
   "nbconvert_exporter": "python",
   "pygments_lexer": "ipython3",
   "version": "3.6.1"
  }
 },
 "nbformat": 4,
 "nbformat_minor": 2
}
